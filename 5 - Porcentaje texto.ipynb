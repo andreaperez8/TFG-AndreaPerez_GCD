{
 "cells": [
  {
   "cell_type": "code",
   "execution_count": null,
   "metadata": {},
   "outputs": [],
   "source": [
    "from google.cloud import vision\n",
    "import io\n",
    "import os\n",
    "import cv2\n",
    "import pytesseract\n",
    "import shutil\n",
    "\n",
    "# Configuracion de la autenticacion para usar la API de Google\n",
    "os.environ['GOOGLE_APPLICATION_CREDENTIALS'] = 'C:\\\\TFG\\\\cosmic-surface-424605-k7-3a347a7f8214.json'\n",
    "\n",
    "# Configura la ubicacion del ejecutable de tesseract (debe estar instalado en tu sistema)\n",
    "pytesseract.pytesseract.tesseract_cmd = r'C:\\Program Files\\Tesseract-OCR\\tesseract.exe'\n",
    "\n",
    "muestra_texto = 'C:\\\\TFG\\\\muestra_imagenes_texto'\n",
    "total_imagenes = len(os.listdir(muestra_texto))\n",
    "\n",
    "carpeta_imagenes = 'C:\\\\TFG\\\\imagenes'\n",
    "\n",
    "def cleanup_text(text):\n",
    "    return ''.join([c if ord(c) < 128 else '' for c in text]).strip()"
   ]
  },
  {
   "cell_type": "markdown",
   "metadata": {},
   "source": [
    "Google Cloud Vision API"
   ]
  },
  {
   "cell_type": "code",
   "execution_count": null,
   "metadata": {},
   "outputs": [],
   "source": [
    "imagenes_texto = {}\n",
    "imagenes_con_texto = 0\n",
    "client = vision.ImageAnnotatorClient()\n",
    "\n",
    "for f in os.listdir(muestra_texto):\n",
    "    image_path = os.path.join(muestra_texto, f)\n",
    "    with io.open(image_path, 'rb') as image_file:\n",
    "        content = image_file.read()\n",
    "        image = vision.Image(content=content)\n",
    "        response = client.text_detection(image=image)\n",
    "        if response.error.message:\n",
    "            raise Exception(f'{response.error.message}')\n",
    "\n",
    "    # Mostrar la informacion por pantalla \n",
    "    if response.text_annotations:\n",
    "        porcentaje_texto = response.text_annotations[0].score\n",
    "        texto = response.text_annotations[0].description\n",
    "        imagenes_texto[f] = (response.text_annotations[0].score, response.text_annotations[0].description)\n",
    "        if porcentaje_texto > 0.5: # Si se detecta texto con mas de un 50% de confianza\n",
    "            imagenes_con_texto += 1\n",
    "\n",
    "            \n",
    "# Calcula el porcentaje de imagenes con texto\n",
    "porcentaje_con_texto = (imagenes_con_texto / total_imagenes) * 100\n",
    "\n",
    "# Imprime el resultado\n",
    "print(f\"Porcentaje de imagenes con texto: {porcentaje_con_texto:.2f}%\")\n",
    "print(f\"Imagenes con texto: {imagenes_con_texto}\")\n",
    "print(f\"Imagenes sin texto: {total_imagenes - imagenes_con_texto}\")"
   ]
  },
  {
   "cell_type": "markdown",
   "metadata": {},
   "source": [
    "OPEN CV Y TESSERACT"
   ]
  },
  {
   "cell_type": "code",
   "execution_count": null,
   "metadata": {},
   "outputs": [],
   "source": [
    "# Lista para almacenar las imagenes con texto\n",
    "im_cont_texto = []\n",
    "\n",
    "# Itera sobre los archivos en la carpeta\n",
    "for archivo in os.listdir(carpeta_imagenes):\n",
    "    ruta_imagen = os.path.join(muestra_texto, archivo)\n",
    "    # Carga la imagen\n",
    "    imagen = cv2.imread(ruta_imagen)\n",
    "    # Convierte la imagen a escala de grises\n",
    "    i_gris = cv2.cvtColor(imagen, cv2.COLOR_BGR2GRAY)\n",
    "    # Aplica OCR a la imagen\n",
    "    texto = pytesseract.image_to_string(i_gris)\n",
    "    texto = cleanup_text(texto)\n",
    "    # Verifica si hay texto en la imagen\n",
    "    if len(texto) > 0:\n",
    "        im_cont_texto.append(archivo)\n",
    "        \n",
    "        \n",
    "# Calcula el porcentaje de imagenes con texto\n",
    "porcentaje_con_texto = (len(im_cont_texto) / total_imagenes) * 100\n",
    "\n",
    "# Imprime el resultado\n",
    "print(f\"Porcentaje de imagenes con texto: {porcentaje_con_texto:.2f}%\")\n",
    "print(f\"Imagenes con texto: {len(im_cont_texto)}\")\n",
    "print(f\"Imagenes sin texto: {total_imagenes - len(im_cont_texto)}\")"
   ]
  },
  {
   "cell_type": "markdown",
   "metadata": {},
   "source": [
    "Dividir las imágenes en función de la clasificación con Open CV y Tesseract"
   ]
  },
  {
   "cell_type": "code",
   "execution_count": null,
   "metadata": {},
   "outputs": [],
   "source": [
    "carpeta_con_texto = 'C:\\\\TFG\\\\imagenes_con_texto'\n",
    "carpeta_sin_texto = 'C:\\\\TFG\\\\imagenes_sin_texto'\n",
    "mover_con_texto = set()\n",
    "mover_sin_texto = set()\n",
    "copiados_texto = 0\n",
    "copiados_sin_texto = 0\n",
    "\n",
    "for imagen in os.listdir(carpeta_imagenes):\n",
    "    ruta_origen = os.path.join(carpeta_imagenes, imagen)\n",
    "    if imagen in im_cont_texto:\n",
    "        mover_con_texto.add(imagen)\n",
    "        # Copiar el archivo a la carpeta externa\n",
    "        ruta_destino = os.path.join(carpeta_con_texto, imagen)\n",
    "        shutil.copy(ruta_origen, ruta_destino)\n",
    "        copiados_texto += 1\n",
    "    if imagen not in im_cont_texto:\n",
    "        mover_sin_texto.add(imagen)\n",
    "        # Copiar el archivo a la carpeta externa\n",
    "        ruta_destino = os.path.join(carpeta_sin_texto, imagen)\n",
    "        shutil.copy(ruta_origen, ruta_destino)\n",
    "        copiados_sin_texto += 1\n",
    "\n",
    "print(f\"Se han copiado {copiados_texto} archivos a {carpeta_con_texto}.\")\n",
    "print(f\"Se han copiado {copiados_sin_texto} archivos a {carpeta_sin_texto}.\")"
   ]
  }
 ],
 "metadata": {
  "kernelspec": {
   "display_name": "base",
   "language": "python",
   "name": "python3"
  },
  "language_info": {
   "codemirror_mode": {
    "name": "ipython",
    "version": 3
   },
   "file_extension": ".py",
   "mimetype": "text/x-python",
   "name": "python",
   "nbconvert_exporter": "python",
   "pygments_lexer": "ipython3",
   "version": "3.8.3"
  }
 },
 "nbformat": 4,
 "nbformat_minor": 2
}
